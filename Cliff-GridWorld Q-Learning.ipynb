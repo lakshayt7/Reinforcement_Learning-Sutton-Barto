{
 "cells": [
  {
   "cell_type": "code",
   "execution_count": 1,
   "metadata": {},
   "outputs": [],
   "source": [
    "import numpy as np"
   ]
  },
  {
   "cell_type": "code",
   "execution_count": 2,
   "metadata": {},
   "outputs": [],
   "source": [
    "Llim = 0\n",
    "Rlim = 10\n",
    "Ulim = 4\n",
    "Dlim = 0\n",
    "CLlim = 2\n",
    "CRlim = 7\n",
    "CUlim = 1\n",
    "CDlim = 0\n",
    "cliffs = [[CLlim, CRlim, CUlim, CDlim]]\n",
    "class grid():\n",
    "    def __init__(self,L,R,U,D,cliffs):\n",
    "        self.L = L\n",
    "        self.R = R\n",
    "        self.U = U\n",
    "        self.D = D\n",
    "        self.cliffs = cliffs\n",
    "    def check(self,x,y):\n",
    "        x = int(x)\n",
    "        y = int(y)\n",
    "        if x>self.R:\n",
    "            x = self.R\n",
    "        elif x<self.L:\n",
    "            x = self.L\n",
    "        if y>self.U:\n",
    "            y = self.U\n",
    "        if y<self.D:\n",
    "            y = self.D\n",
    "        flag = 0\n",
    "        for cliff in self.cliffs:\n",
    "            if x>=int(cliff[0])and(x<=cliff[1])and(y<=cliff[2])and(y>=cliff[3]):\n",
    "                flag = 1\n",
    "        return x,y,flag\n",
    "class player():\n",
    "    def __init__(self,x,y,grid):\n",
    "        self.x = x\n",
    "        self.y = y\n",
    "        self.reward = 0\n",
    "        self.grid = grid\n",
    "        self.terminal = 0\n",
    "    def cliff(self):\n",
    "        self.x = 0\n",
    "        self.y = 0\n",
    "        self.reward-=100\n",
    "    def move(self,go):\n",
    "        if go == 'U':\n",
    "            self.y+=1\n",
    "        elif go == 'D':\n",
    "            self.y-=1;\n",
    "        elif go == 'L':\n",
    "            self.x -= 1\n",
    "        elif go == 'R':\n",
    "            self.x+=1\n",
    "        self.x,self.y,flag = self.grid.check(self.x,self.y)\n",
    "        if flag == 0:\n",
    "            self.reward-=1\n",
    "            rew = -1\n",
    "        else:\n",
    "            self.cliff()\n",
    "            rew = -100\n",
    "        if(self.x == Rlim and self.y == Dlim):\n",
    "            self.terminal = 1\n",
    "        return rew"
   ]
  },
  {
   "cell_type": "code",
   "execution_count": 3,
   "metadata": {},
   "outputs": [
    {
     "ename": "IndexError",
     "evalue": "index 10 is out of bounds for axis 0 with size 5",
     "output_type": "error",
     "traceback": [
      "\u001b[1;31m---------------------------------------------------------------------------\u001b[0m",
      "\u001b[1;31mIndexError\u001b[0m                                Traceback (most recent call last)",
      "\u001b[1;32m<ipython-input-3-a3353fa786ae>\u001b[0m in \u001b[0;36m<module>\u001b[1;34m\u001b[0m\n\u001b[0;32m      3\u001b[0m \u001b[0mgamma\u001b[0m \u001b[1;33m=\u001b[0m \u001b[1;36m1\u001b[0m\u001b[1;33m\u001b[0m\u001b[1;33m\u001b[0m\u001b[0m\n\u001b[0;32m      4\u001b[0m \u001b[0mQ\u001b[0m \u001b[1;33m=\u001b[0m \u001b[0mnp\u001b[0m\u001b[1;33m.\u001b[0m\u001b[0mrandom\u001b[0m\u001b[1;33m.\u001b[0m\u001b[0mrand\u001b[0m\u001b[1;33m(\u001b[0m\u001b[0mUlim\u001b[0m\u001b[1;33m-\u001b[0m\u001b[0mDlim\u001b[0m\u001b[1;33m+\u001b[0m\u001b[1;36m1\u001b[0m\u001b[1;33m,\u001b[0m\u001b[0mRlim\u001b[0m\u001b[1;33m-\u001b[0m\u001b[0mLlim\u001b[0m\u001b[1;33m+\u001b[0m\u001b[1;36m1\u001b[0m\u001b[1;33m,\u001b[0m\u001b[1;36m4\u001b[0m\u001b[1;33m)\u001b[0m\u001b[1;33m\u001b[0m\u001b[1;33m\u001b[0m\u001b[0m\n\u001b[1;32m----> 5\u001b[1;33m \u001b[0mQ\u001b[0m\u001b[1;33m[\u001b[0m\u001b[0mRlim\u001b[0m\u001b[1;33m]\u001b[0m\u001b[1;33m[\u001b[0m\u001b[1;36m0\u001b[0m\u001b[1;33m]\u001b[0m \u001b[1;33m=\u001b[0m \u001b[1;33m[\u001b[0m\u001b[1;36m0\u001b[0m\u001b[1;33m,\u001b[0m \u001b[1;36m0\u001b[0m\u001b[1;33m,\u001b[0m \u001b[1;36m0\u001b[0m\u001b[1;33m,\u001b[0m \u001b[1;36m0\u001b[0m\u001b[1;33m]\u001b[0m\u001b[1;33m\u001b[0m\u001b[1;33m\u001b[0m\u001b[0m\n\u001b[0m",
      "\u001b[1;31mIndexError\u001b[0m: index 10 is out of bounds for axis 0 with size 5"
     ]
    }
   ],
   "source": [
    "alpha = 0.99\n",
    "epsilon = 0.2\n",
    "gamma = 1\n",
    "Q = np.random.rand(Ulim-Dlim+1,Rlim-Llim+1,4)\n",
    "Q[Rlim][0] = [0, 0, 0, 0]"
   ]
  },
  {
   "cell_type": "code",
   "execution_count": 4,
   "metadata": {},
   "outputs": [
    {
     "ename": "IndexError",
     "evalue": "index 5 is out of bounds for axis 0 with size 5",
     "output_type": "error",
     "traceback": [
      "\u001b[1;31m---------------------------------------------------------------------------\u001b[0m",
      "\u001b[1;31mIndexError\u001b[0m                                Traceback (most recent call last)",
      "\u001b[1;32m<ipython-input-4-8812b7f3dd89>\u001b[0m in \u001b[0;36m<module>\u001b[1;34m\u001b[0m\n\u001b[0;32m     48\u001b[0m             \u001b[0mmxmove1\u001b[0m \u001b[1;33m=\u001b[0m \u001b[0mlist\u001b[0m\u001b[1;33m(\u001b[0m\u001b[0mmoves1\u001b[0m\u001b[1;33m)\u001b[0m\u001b[1;33m[\u001b[0m\u001b[1;36m0\u001b[0m\u001b[1;33m]\u001b[0m\u001b[1;33m\u001b[0m\u001b[1;33m\u001b[0m\u001b[0m\n\u001b[0;32m     49\u001b[0m             \u001b[1;32mfor\u001b[0m \u001b[0mmove\u001b[0m \u001b[1;32min\u001b[0m \u001b[0mmoves1\u001b[0m\u001b[1;33m:\u001b[0m\u001b[1;33m\u001b[0m\u001b[1;33m\u001b[0m\u001b[0m\n\u001b[1;32m---> 50\u001b[1;33m                 \u001b[1;32mif\u001b[0m \u001b[0mQ\u001b[0m\u001b[1;33m[\u001b[0m\u001b[0mp\u001b[0m\u001b[1;33m.\u001b[0m\u001b[0mx\u001b[0m\u001b[1;33m]\u001b[0m\u001b[1;33m[\u001b[0m\u001b[0mp\u001b[0m\u001b[1;33m.\u001b[0m\u001b[0my\u001b[0m\u001b[1;33m]\u001b[0m\u001b[1;33m[\u001b[0m\u001b[0mmoves1\u001b[0m\u001b[1;33m[\u001b[0m\u001b[0mmove\u001b[0m\u001b[1;33m]\u001b[0m\u001b[1;33m]\u001b[0m\u001b[1;33m>\u001b[0m\u001b[0mmx\u001b[0m\u001b[1;33m:\u001b[0m\u001b[1;33m\u001b[0m\u001b[1;33m\u001b[0m\u001b[0m\n\u001b[0m\u001b[0;32m     51\u001b[0m                     \u001b[0mmx\u001b[0m \u001b[1;33m=\u001b[0m \u001b[0mQ\u001b[0m\u001b[1;33m[\u001b[0m\u001b[0mp\u001b[0m\u001b[1;33m.\u001b[0m\u001b[0mx\u001b[0m\u001b[1;33m]\u001b[0m\u001b[1;33m[\u001b[0m\u001b[0mp\u001b[0m\u001b[1;33m.\u001b[0m\u001b[0my\u001b[0m\u001b[1;33m]\u001b[0m\u001b[1;33m[\u001b[0m\u001b[0mmoves1\u001b[0m\u001b[1;33m[\u001b[0m\u001b[0mmove\u001b[0m\u001b[1;33m]\u001b[0m\u001b[1;33m]\u001b[0m\u001b[1;33m\u001b[0m\u001b[1;33m\u001b[0m\u001b[0m\n\u001b[0;32m     52\u001b[0m                     \u001b[0mmxmove1\u001b[0m \u001b[1;33m=\u001b[0m \u001b[0mmove\u001b[0m\u001b[1;33m\u001b[0m\u001b[1;33m\u001b[0m\u001b[0m\n",
      "\u001b[1;31mIndexError\u001b[0m: index 5 is out of bounds for axis 0 with size 5"
     ]
    }
   ],
   "source": [
    "for i in range(1000):\n",
    "    g = grid(Llim,Rlim,Ulim,Dlim,cliffs)\n",
    "    p = player(0,0,g)\n",
    "    while(not p.terminal):\n",
    "        ran = np.random.uniform()\n",
    "        if(ran>epsilon):\n",
    "            mx = 0\n",
    "            state = (p.x,p.y)\n",
    "            moves = {'R':0,'L':1,'U':2,'D':3}\n",
    "            if(p.y==0):\n",
    "                del moves['D']\n",
    "            if(p.x==0):\n",
    "                del moves['L']\n",
    "            mxmove = list(moves)[0]\n",
    "            for move in moves:\n",
    "                if Q[p.x][p.y][moves[move]]>mx:\n",
    "                    mx = Q[p.x][p.y][moves[move]]\n",
    "                    mxmove = move\n",
    "            R = p.move(mxmove)\n",
    "            moves1 = {'R':0,'L':1,'U':2,'D':3}\n",
    "            if(p.y==0):\n",
    "                moves1.pop('D')\n",
    "            if(p.x==0):\n",
    "                del moves1['L']\n",
    "            if(p.y == Ulim)\n",
    "                del moves1['U']\n",
    "            mx = 0\n",
    "            mxmove1 = list(moves1)[0]\n",
    "            for move in moves1:\n",
    "                if Q[p.x][p.y][moves1[move]]>mx:\n",
    "                    mx = Q[p.x][p.y][moves1[move]]\n",
    "                    mxmove1 = move\n",
    "            Q[state[0]][state[1]][moves[mxmove]]+=alpha*(R+gamma*(Q[p.x][p.y][moves1[mxmove1]])-Q[state[0]][state[1]][moves[mxmove]])\n",
    "        else:\n",
    "            state = (p.x,p.y)\n",
    "            moves = {'R':0,'L':1,'U':2,'D':3}\n",
    "            if(p.y==0):\n",
    "                del moves['D']\n",
    "            if(p.x==0):\n",
    "                del moves['L']\n",
    "            lmoves = list(moves)\n",
    "            mxmove = lmoves[np.random.randint(0,len(lmoves))]\n",
    "            R = p.move(mxmove)\n",
    "            moves1 = {'R':0,'L':1,'U':2,'D':3}\n",
    "            if(p.y==0):\n",
    "                moves1.pop('D')\n",
    "            if(p.x==0):\n",
    "                del moves1['L']\n",
    "            mx = 0\n",
    "            mxmove1 = list(moves1)[0]\n",
    "            for move in moves1:\n",
    "                if Q[p.x][p.y][moves1[move]]>mx:\n",
    "                    mx = Q[p.x][p.y][moves1[move]]\n",
    "                    mxmove1 = move\n",
    "            Q[state[0]][state[1]][moves[mxmove]]+=alpha*(R+gamma*(Q[p.x][p.y][moves1[mxmove1]])-Q[state[0]][state[1]][moves[mxmove]])\n",
    "        #print(state)\n",
    "    print(\"Episode \"+str(i)+\" over with reward  = \"+str(p.reward))\n",
    "            "
   ]
  },
  {
   "cell_type": "code",
   "execution_count": null,
   "metadata": {},
   "outputs": [],
   "source": []
  }
 ],
 "metadata": {
  "kernelspec": {
   "display_name": "Python [conda env:tf_gpu] *",
   "language": "python",
   "name": "conda-env-tf_gpu-py"
  },
  "language_info": {
   "codemirror_mode": {
    "name": "ipython",
    "version": 3
   },
   "file_extension": ".py",
   "mimetype": "text/x-python",
   "name": "python",
   "nbconvert_exporter": "python",
   "pygments_lexer": "ipython3",
   "version": "3.7.5"
  }
 },
 "nbformat": 4,
 "nbformat_minor": 2
}
